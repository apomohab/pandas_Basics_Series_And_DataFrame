{
 "cells": [
  {
   "cell_type": "code",
   "execution_count": 1,
   "metadata": {},
   "outputs": [
    {
     "data": {
      "text/html": [
       "<div>\n",
       "<style scoped>\n",
       "    .dataframe tbody tr th:only-of-type {\n",
       "        vertical-align: middle;\n",
       "    }\n",
       "\n",
       "    .dataframe tbody tr th {\n",
       "        vertical-align: top;\n",
       "    }\n",
       "\n",
       "    .dataframe thead th {\n",
       "        text-align: right;\n",
       "    }\n",
       "</style>\n",
       "<table border=\"1\" class=\"dataframe\">\n",
       "  <thead>\n",
       "    <tr style=\"text-align: right;\">\n",
       "      <th></th>\n",
       "      <th>name</th>\n",
       "      <th>job</th>\n",
       "      <th>country</th>\n",
       "      <th>salary</th>\n",
       "    </tr>\n",
       "  </thead>\n",
       "  <tbody>\n",
       "    <tr>\n",
       "      <th>0</th>\n",
       "      <td>saeed</td>\n",
       "      <td>cooder</td>\n",
       "      <td>saudi arabia</td>\n",
       "      <td>50000</td>\n",
       "    </tr>\n",
       "    <tr>\n",
       "      <th>1</th>\n",
       "      <td>mohamed</td>\n",
       "      <td>frontend</td>\n",
       "      <td>egypt</td>\n",
       "      <td>140000</td>\n",
       "    </tr>\n",
       "    <tr>\n",
       "      <th>2</th>\n",
       "      <td>mohab</td>\n",
       "      <td>backend</td>\n",
       "      <td>tunis</td>\n",
       "      <td>110000</td>\n",
       "    </tr>\n",
       "    <tr>\n",
       "      <th>3</th>\n",
       "      <td>sara</td>\n",
       "      <td>design</td>\n",
       "      <td>algeria</td>\n",
       "      <td>90000</td>\n",
       "    </tr>\n",
       "    <tr>\n",
       "      <th>4</th>\n",
       "      <td>mahmoud</td>\n",
       "      <td>coders</td>\n",
       "      <td>sudan</td>\n",
       "      <td>60000</td>\n",
       "    </tr>\n",
       "  </tbody>\n",
       "</table>\n",
       "</div>"
      ],
      "text/plain": [
       "      name       job       country  salary\n",
       "0    saeed    cooder  saudi arabia   50000\n",
       "1  mohamed  frontend         egypt  140000\n",
       "2    mohab   backend         tunis  110000\n",
       "3     sara    design       algeria   90000\n",
       "4  mahmoud    coders         sudan   60000"
      ]
     },
     "execution_count": 1,
     "metadata": {},
     "output_type": "execute_result"
    }
   ],
   "source": [
    "#in 8-11-2020\n",
    "\n",
    "import pandas as pd\n",
    "import numpy as np\n",
    "\n",
    "my_product = [\n",
    "    \n",
    "    ('saeed' , 'cooder' , 'saudi arabia' , 50000),\n",
    "    ('mohamed' , 'frontend', 'egypt' , 140000),\n",
    "    ('mohab' , 'backend' , 'tunis'  , 110000),\n",
    "    ('sara' , 'design' , 'algeria' , 90000),\n",
    "    ('mahmoud' , 'coders', 'sudan' , 60000),\n",
    "    ('hind' , 'backend' , 'maly' , 70000),\n",
    "    ('yara' , 'software' , 'dubai', 110000),\n",
    "    ('mohab' , 'applications', 'kuwait', 100000),\n",
    "    ('nawaf' , 'backend' , 'saudi', 100000),\n",
    "    ('mahmoud' , 'fronend' , 'egypt' , 50000)]\n",
    "\n",
    "data = pd.DataFrame( my_product , columns=['name' , 'job' , 'country' , 'salary'])\n",
    "\n",
    "\n",
    "data.head()\n",
    "\n"
   ]
  },
  {
   "cell_type": "code",
   "execution_count": 2,
   "metadata": {},
   "outputs": [
    {
     "data": {
      "text/plain": [
       "name     job           country       salary\n",
       "yara     software      dubai         110000    1\n",
       "sara     design        algeria       90000     1\n",
       "saeed    cooder        saudi arabia  50000     1\n",
       "nawaf    backend       saudi         100000    1\n",
       "mohamed  frontend      egypt         140000    1\n",
       "mohab    backend       tunis         110000    1\n",
       "         applications  kuwait        100000    1\n",
       "mahmoud  fronend       egypt         50000     1\n",
       "         coders        sudan         60000     1\n",
       "hind     backend       maly          70000     1\n",
       "dtype: int64"
      ]
     },
     "execution_count": 2,
     "metadata": {},
     "output_type": "execute_result"
    }
   ],
   "source": [
    "data.value_counts()"
   ]
  },
  {
   "cell_type": "code",
   "execution_count": 3,
   "metadata": {},
   "outputs": [
    {
     "data": {
      "text/plain": [
       "110000    2\n",
       "100000    2\n",
       "50000     2\n",
       "70000     1\n",
       "140000    1\n",
       "60000     1\n",
       "90000     1\n",
       "Name: salary, dtype: int64"
      ]
     },
     "execution_count": 3,
     "metadata": {},
     "output_type": "execute_result"
    }
   ],
   "source": [
    "data['salary'].value_counts()"
   ]
  },
  {
   "cell_type": "code",
   "execution_count": 4,
   "metadata": {},
   "outputs": [
    {
     "data": {
      "text/plain": [
       "Index(['name', 'job', 'country', 'salary'], dtype='object')"
      ]
     },
     "execution_count": 4,
     "metadata": {},
     "output_type": "execute_result"
    }
   ],
   "source": [
    "data.columns"
   ]
  },
  {
   "cell_type": "code",
   "execution_count": 6,
   "metadata": {},
   "outputs": [
    {
     "data": {
      "text/plain": [
       "[RangeIndex(start=0, stop=10, step=1),\n",
       " Index(['name', 'job', 'country', 'salary'], dtype='object')]"
      ]
     },
     "execution_count": 6,
     "metadata": {},
     "output_type": "execute_result"
    }
   ],
   "source": [
    "data.axes\n"
   ]
  },
  {
   "cell_type": "code",
   "execution_count": 7,
   "metadata": {},
   "outputs": [
    {
     "name": "stdout",
     "output_type": "stream",
     "text": [
      "<class 'pandas.core.frame.DataFrame'>\n",
      "RangeIndex: 10 entries, 0 to 9\n",
      "Data columns (total 4 columns):\n",
      " #   Column   Non-Null Count  Dtype \n",
      "---  ------   --------------  ----- \n",
      " 0   name     10 non-null     object\n",
      " 1   job      10 non-null     object\n",
      " 2   country  10 non-null     object\n",
      " 3   salary   10 non-null     int64 \n",
      "dtypes: int64(1), object(3)\n",
      "memory usage: 448.0+ bytes\n"
     ]
    }
   ],
   "source": [
    "data.info()"
   ]
  },
  {
   "cell_type": "code",
   "execution_count": 10,
   "metadata": {},
   "outputs": [
    {
     "data": {
      "text/plain": [
       "'salary'"
      ]
     },
     "execution_count": 10,
     "metadata": {},
     "output_type": "execute_result"
    }
   ],
   "source": [
    "data['salary'].name"
   ]
  },
  {
   "cell_type": "code",
   "execution_count": 11,
   "metadata": {},
   "outputs": [
    {
     "data": {
      "text/plain": [
       "pandas.core.series.Series"
      ]
     },
     "execution_count": 11,
     "metadata": {},
     "output_type": "execute_result"
    }
   ],
   "source": [
    "type(data['name'])"
   ]
  },
  {
   "cell_type": "code",
   "execution_count": 14,
   "metadata": {},
   "outputs": [
    {
     "data": {
      "text/plain": [
       "pandas.core.frame.DataFrame"
      ]
     },
     "execution_count": 14,
     "metadata": {},
     "output_type": "execute_result"
    }
   ],
   "source": [
    "type(data[['name' , 'salary']])"
   ]
  },
  {
   "cell_type": "code",
   "execution_count": 16,
   "metadata": {},
   "outputs": [
    {
     "data": {
      "text/plain": [
       "0      saeed\n",
       "1    mohamed\n",
       "2      mohab\n",
       "3       sara\n",
       "4    mahmoud\n",
       "Name: name, dtype: object"
      ]
     },
     "execution_count": 16,
     "metadata": {},
     "output_type": "execute_result"
    }
   ],
   "source": [
    "data['name'].head()"
   ]
  },
  {
   "cell_type": "code",
   "execution_count": 19,
   "metadata": {},
   "outputs": [
    {
     "data": {
      "text/html": [
       "<div>\n",
       "<style scoped>\n",
       "    .dataframe tbody tr th:only-of-type {\n",
       "        vertical-align: middle;\n",
       "    }\n",
       "\n",
       "    .dataframe tbody tr th {\n",
       "        vertical-align: top;\n",
       "    }\n",
       "\n",
       "    .dataframe thead th {\n",
       "        text-align: right;\n",
       "    }\n",
       "</style>\n",
       "<table border=\"1\" class=\"dataframe\">\n",
       "  <thead>\n",
       "    <tr style=\"text-align: right;\">\n",
       "      <th></th>\n",
       "      <th>name</th>\n",
       "      <th>job</th>\n",
       "      <th>country</th>\n",
       "      <th>salary</th>\n",
       "      <th>new</th>\n",
       "    </tr>\n",
       "  </thead>\n",
       "  <tbody>\n",
       "    <tr>\n",
       "      <th>0</th>\n",
       "      <td>saeed</td>\n",
       "      <td>cooder</td>\n",
       "      <td>saudi arabia</td>\n",
       "      <td>50000</td>\n",
       "      <td>new columns</td>\n",
       "    </tr>\n",
       "    <tr>\n",
       "      <th>1</th>\n",
       "      <td>mohamed</td>\n",
       "      <td>frontend</td>\n",
       "      <td>egypt</td>\n",
       "      <td>140000</td>\n",
       "      <td>new columns</td>\n",
       "    </tr>\n",
       "    <tr>\n",
       "      <th>2</th>\n",
       "      <td>mohab</td>\n",
       "      <td>backend</td>\n",
       "      <td>tunis</td>\n",
       "      <td>110000</td>\n",
       "      <td>new columns</td>\n",
       "    </tr>\n",
       "    <tr>\n",
       "      <th>3</th>\n",
       "      <td>sara</td>\n",
       "      <td>design</td>\n",
       "      <td>algeria</td>\n",
       "      <td>90000</td>\n",
       "      <td>new columns</td>\n",
       "    </tr>\n",
       "    <tr>\n",
       "      <th>4</th>\n",
       "      <td>mahmoud</td>\n",
       "      <td>coders</td>\n",
       "      <td>sudan</td>\n",
       "      <td>60000</td>\n",
       "      <td>new columns</td>\n",
       "    </tr>\n",
       "  </tbody>\n",
       "</table>\n",
       "</div>"
      ],
      "text/plain": [
       "      name       job       country  salary          new\n",
       "0    saeed    cooder  saudi arabia   50000  new columns\n",
       "1  mohamed  frontend         egypt  140000  new columns\n",
       "2    mohab   backend         tunis  110000  new columns\n",
       "3     sara    design       algeria   90000  new columns\n",
       "4  mahmoud    coders         sudan   60000  new columns"
      ]
     },
     "execution_count": 19,
     "metadata": {},
     "output_type": "execute_result"
    }
   ],
   "source": [
    "data['new'] = \"new columns\"\n",
    "\n",
    "data.head()"
   ]
  },
  {
   "cell_type": "code",
   "execution_count": 24,
   "metadata": {
    "scrolled": true
   },
   "outputs": [
    {
     "data": {
      "text/html": [
       "<div>\n",
       "<style scoped>\n",
       "    .dataframe tbody tr th:only-of-type {\n",
       "        vertical-align: middle;\n",
       "    }\n",
       "\n",
       "    .dataframe tbody tr th {\n",
       "        vertical-align: top;\n",
       "    }\n",
       "\n",
       "    .dataframe thead th {\n",
       "        text-align: right;\n",
       "    }\n",
       "</style>\n",
       "<table border=\"1\" class=\"dataframe\">\n",
       "  <thead>\n",
       "    <tr style=\"text-align: right;\">\n",
       "      <th></th>\n",
       "      <th>name</th>\n",
       "      <th>job</th>\n",
       "      <th>country</th>\n",
       "      <th>learn</th>\n",
       "      <th>Ages</th>\n",
       "      <th>Age</th>\n",
       "      <th>salary</th>\n",
       "      <th>new</th>\n",
       "    </tr>\n",
       "  </thead>\n",
       "  <tbody>\n",
       "    <tr>\n",
       "      <th>0</th>\n",
       "      <td>saeed</td>\n",
       "      <td>cooder</td>\n",
       "      <td>saudi arabia</td>\n",
       "      <td>heighSchools</td>\n",
       "      <td>25</td>\n",
       "      <td>25</td>\n",
       "      <td>50000</td>\n",
       "      <td>new columns</td>\n",
       "    </tr>\n",
       "    <tr>\n",
       "      <th>1</th>\n",
       "      <td>mohamed</td>\n",
       "      <td>frontend</td>\n",
       "      <td>egypt</td>\n",
       "      <td>heighSchools</td>\n",
       "      <td>25</td>\n",
       "      <td>25</td>\n",
       "      <td>140000</td>\n",
       "      <td>new columns</td>\n",
       "    </tr>\n",
       "    <tr>\n",
       "      <th>2</th>\n",
       "      <td>mohab</td>\n",
       "      <td>backend</td>\n",
       "      <td>tunis</td>\n",
       "      <td>heighSchools</td>\n",
       "      <td>25</td>\n",
       "      <td>25</td>\n",
       "      <td>110000</td>\n",
       "      <td>new columns</td>\n",
       "    </tr>\n",
       "    <tr>\n",
       "      <th>3</th>\n",
       "      <td>sara</td>\n",
       "      <td>design</td>\n",
       "      <td>algeria</td>\n",
       "      <td>heighSchools</td>\n",
       "      <td>25</td>\n",
       "      <td>25</td>\n",
       "      <td>90000</td>\n",
       "      <td>new columns</td>\n",
       "    </tr>\n",
       "    <tr>\n",
       "      <th>4</th>\n",
       "      <td>mahmoud</td>\n",
       "      <td>coders</td>\n",
       "      <td>sudan</td>\n",
       "      <td>heighSchools</td>\n",
       "      <td>25</td>\n",
       "      <td>25</td>\n",
       "      <td>60000</td>\n",
       "      <td>new columns</td>\n",
       "    </tr>\n",
       "  </tbody>\n",
       "</table>\n",
       "</div>"
      ],
      "text/plain": [
       "      name       job       country         learn  Ages  Age  salary  \\\n",
       "0    saeed    cooder  saudi arabia  heighSchools    25   25   50000   \n",
       "1  mohamed  frontend         egypt  heighSchools    25   25  140000   \n",
       "2    mohab   backend         tunis  heighSchools    25   25  110000   \n",
       "3     sara    design       algeria  heighSchools    25   25   90000   \n",
       "4  mahmoud    coders         sudan  heighSchools    25   25   60000   \n",
       "\n",
       "           new  \n",
       "0  new columns  \n",
       "1  new columns  \n",
       "2  new columns  \n",
       "3  new columns  \n",
       "4  new columns  "
      ]
     },
     "execution_count": 24,
     "metadata": {},
     "output_type": "execute_result"
    }
   ],
   "source": [
    "data.insert(3 , column='learn' , value='heighSchools')\n",
    "\n",
    "data.head()"
   ]
  }
 ],
 "metadata": {
  "kernelspec": {
   "display_name": "Python 3",
   "language": "python",
   "name": "python3"
  },
  "language_info": {
   "codemirror_mode": {
    "name": "ipython",
    "version": 3
   },
   "file_extension": ".py",
   "mimetype": "text/x-python",
   "name": "python",
   "nbconvert_exporter": "python",
   "pygments_lexer": "ipython3",
   "version": "3.8.5"
  }
 },
 "nbformat": 4,
 "nbformat_minor": 4
}
